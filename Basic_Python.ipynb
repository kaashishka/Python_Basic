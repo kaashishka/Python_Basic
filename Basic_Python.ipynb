{
  "nbformat": 4,
  "nbformat_minor": 0,
  "metadata": {
    "colab": {
      "provenance": []
    },
    "kernelspec": {
      "name": "python3",
      "display_name": "Python 3"
    },
    "language_info": {
      "name": "python"
    }
  },
  "cells": [
    {
      "cell_type": "markdown",
      "source": [
        "                            **Python Basics Questions**\n",
        "\n",
        "---\n",
        "\n",
        "Ques 1: What is Python, and why is it popular?\n",
        "  - Ans : Python is a high-level, general-purpose programming language known for its readability and simplicity. It's an interpreted language, meaning code is executed line by line, making it easier to debug. Python's object-oriented nature allows developers to structure code around objects, and its dynamic typing makes it faster to write, though requires careful attention to type handling.\n",
        "\n",
        "  Python's immense popularity comes down to several key factors:\n",
        "\n",
        "  *   Ease of learning and use\n",
        "  *   Versatility and flexibility\n",
        "  *   Large and active community\n",
        "  *   Extensive libraries and frameworks\n",
        "  *   Productivity and speed\n",
        "  *   Wide adoption in industry\n",
        "\n",
        "\n",
        "Ques 2: What is an interpreter in Python\n",
        "  - Ans : The Python interpreter is a program that reads and executes Python code. It acts as an intermediary between your high-level Python code and the computer's hardware, which only understands machine language (binary code.\n",
        "\n",
        "Ques 3: What are pre-defined keywords in Python?\n",
        "  - Ans : Python keywords are reserved words that have special meanings within the language. They cannot be used as identifiers (like variable names, function names, or class names). These keywords are fundamental to the structure and syntax of Python code. They dictate how the interpreter understands and executes your programs. eg True,False,if,elif,for,while.\n",
        "\n",
        "Ques 4: Can keywords be used as variable names?\n",
        "  - Ans : No, keywords cannot be used as variable names in Python. Keywords are reserved words with special meanings in the language itself. If you try to use a keyword as a variable name, you'll get a syntax error.\n",
        "\n",
        "Ques 5 : 8 What is mutability in Python?\n",
        "  - Ans : Mutability in Python refers to the ability of an object to be modified after its creation. If an object's value can be changed without changing its identity (i.e., its memory location), it's considered mutable.\n",
        "\n",
        "Ques 6: Why are lists mutable, but tuples are immutable?\n",
        "  - Ans : Lists are mutable because they are designed to be dynamic data structures whose contents can be modified after creation. Tuples, on the other hand, are immutable for several reasons, primarily related to data integrity, performance.\n",
        "\n",
        "Ques 7 : What is the difference between “==” and “is” operators in Python?\n",
        " - Ans : In Python, both == and is are used for comparisons, but they operate at different levels:\n",
        "  * == (Equality Operator): Compares the values of two objects. It checks if the contents of the objects are the same.\n",
        "  * is (Identity Operator): Compares the memory addresses of two objects. It checks if both variables refer to the exact same object in memory.\n",
        "\n",
        "Ques 8: What are logical operators in Python?\n",
        "  - Ans : Logical operators in Python are used to combine or modify conditional statements. They work with Boolean values (True or False) and return Boolean results.\n",
        "\n",
        "Ques: 9: What is type casting in Python?\n",
        " - Ans : Type casting, also known as type conversion, is the process of changing an object's data type from one type to another. This is often necessary when you need to perform operations that require a specific data type, or when you're working with data that's been input or retrieved in a different format than what you need.\n",
        "\n",
        "Ques 10: What is the difference between implicit and explicit type casting?\n",
        " - Ans : In Python, type casting, the process of converting a variable from one data type to another, can be done implicitly or explicitly.\n",
        "\n",
        "Ques 11: What is the purpose of conditional statements in Python?\n",
        " - Ans : The primary purpose of conditional statements is to selectively execute parts of your program. This allows your code to adapt to various inputs, data states, or other runtime conditions. They empower you to create dynamic programs that behave differently under different circumstances.\n",
        "\n",
        "Ques 12: How does the elif statement work?\n",
        " - Ans : The elif statement, short for \"else if,\" is a crucial part of Python's conditional execution structure. It allows you to check multiple conditions sequentially after an initial if statement.Here's how it works:\n",
        "\n",
        "  Sequential Evaluation: elif conditions are evaluated only if the preceding if condition are False.\n",
        "\n",
        "  First True Condition: The code block associated with the first elif condition that evaluates to True is executed. Once a True condition is found, Python skips the rest of the elif conditions and the else block, continuing execution after the entire if-elif-else structure.\n",
        "\n",
        "  Optional else: An else block can be included at the end to provide a fallback. It will execute only if none of the if or elif conditions.\n",
        "\n",
        "\n",
        "Ques 13: What is the difference between for and while loops?\n",
        " - Ans :The key difference between for and while loops lies in their purpose, for loops are used when you know the number of iterations beforehand, while while loops are used when the number of iterations depends on a condition that might change during execution.\n",
        "\n",
        "Ques 14:Describe a scenario where a while loop is more suitable than a for loop.\n",
        "  - Ans : Imagine you're processing a file where you don't know the number of lines. You want to keep reading and processing lines until you reach the end of the file. A while loop is perfect for this:"
      ],
      "metadata": {
        "id": "76N84WE1SHLe"
      }
    },
    {
      "cell_type": "markdown",
      "source": [],
      "metadata": {
        "id": "JwZlSnwbWKiH"
      }
    },
    {
      "cell_type": "markdown",
      "source": [
        "                          **Practical Questions**\n",
        "\n",
        "---\n",
        "\n"
      ],
      "metadata": {
        "id": "Bjojk3Qml_Pi"
      }
    },
    {
      "cell_type": "code",
      "execution_count": null,
      "metadata": {
        "colab": {
          "base_uri": "https://localhost:8080/"
        },
        "id": "ICHAYDH92uQ7",
        "outputId": "27b2d0e4-9d72-44c4-dc78-9432c7c6eca3"
      },
      "outputs": [
        {
          "output_type": "stream",
          "name": "stdout",
          "text": [
            "Hello word!\n"
          ]
        }
      ],
      "source": [
        "#Q1. Write a Python program to print \"Hello, World!\n",
        "print(\"Hello word!\")"
      ]
    },
    {
      "cell_type": "code",
      "source": [
        "#Q2.Write a Python program that displays your name and age.\n",
        "name = input(\"Enter your name: \")\n",
        "age = int(input(\"Enter your age: \"))\n",
        "print(f\"My name is {name} and I am {age} years old.\")"
      ],
      "metadata": {
        "colab": {
          "base_uri": "https://localhost:8080/"
        },
        "id": "A6FF-Xtg2-Xs",
        "outputId": "db65832b-8f9e-46e3-d0e3-85820724cae5"
      },
      "execution_count": null,
      "outputs": [
        {
          "output_type": "stream",
          "name": "stdout",
          "text": [
            "Enter your name: Aashish\n",
            "Enter your age: 32\n",
            "My name is Aashish and I am 32 years old.\n"
          ]
        }
      ]
    },
    {
      "cell_type": "code",
      "source": [
        "#Q3.Write code to print all the pre-defined keywords in Python using the keyword library.\n",
        "import keyword\n",
        "print(keyword.kwlist)"
      ],
      "metadata": {
        "colab": {
          "base_uri": "https://localhost:8080/"
        },
        "id": "IOT5BedT3c6N",
        "outputId": "d09af6dd-5dd7-4ddd-abbf-f9175d140635"
      },
      "execution_count": null,
      "outputs": [
        {
          "output_type": "stream",
          "name": "stdout",
          "text": [
            "['False', 'None', 'True', 'and', 'as', 'assert', 'async', 'await', 'break', 'class', 'continue', 'def', 'del', 'elif', 'else', 'except', 'finally', 'for', 'from', 'global', 'if', 'import', 'in', 'is', 'lambda', 'nonlocal', 'not', 'or', 'pass', 'raise', 'return', 'try', 'while', 'with', 'yield']\n"
          ]
        }
      ]
    },
    {
      "cell_type": "code",
      "source": [
        "#Q4.Write a program that checks if a given word is a Python keyword.\n",
        "import keyword\n",
        "def py_word(word):\n",
        "  return keyword.iskeyword(word)\n",
        "\n",
        "word = input(\"Enter a word: \")\n",
        "if py_word(word):\n",
        "  print(f\"'{word}' is a Python keyword.\")\n",
        "else:\n",
        "  print(f\"'{word}' is not a Python keyword.\")"
      ],
      "metadata": {
        "colab": {
          "base_uri": "https://localhost:8080/"
        },
        "id": "GX6mAiGp3wbL",
        "outputId": "a0f4858f-c294-48a1-92bd-412a58592493"
      },
      "execution_count": null,
      "outputs": [
        {
          "output_type": "stream",
          "name": "stdout",
          "text": [
            "Enter a word: True\n",
            "'True' is a Python keyword.\n"
          ]
        }
      ]
    },
    {
      "cell_type": "code",
      "source": [
        "#Q5. Create a list and tuple in Python, and demonstrate how attempting to change an element works differently\n",
        "my_list = [1, 2, 3, 4, 5]\n",
        "my_tuple = (1, 2, 3, 4, 5)\n",
        "\n",
        "my_list[2] = 10\n",
        "print(\"Modified list:\", my_list)\n",
        "\n",
        "# Attempting to modify the tuple (not allowed)\n",
        "try:\n",
        "    my_tuple[2] = 10\n",
        "except TypeError as e:\n",
        "    print(\"Error:\", e)\n",
        "\n",
        "# Convert to list, change element, convert back to tuple\n",
        "list_from_tuple = list(my_tuple)\n",
        "list_from_tuple[2] = 10\n",
        "modified_tuple = tuple(list_from_tuple)\n",
        "\n",
        "print(\"Original tuple:\", my_tuple)\n",
        "print(\"Modified tuple:\", modified_tuple)"
      ],
      "metadata": {
        "colab": {
          "base_uri": "https://localhost:8080/"
        },
        "id": "tlLa4d7Q5W1w",
        "outputId": "8d5530f2-8bb9-430d-8b43-92ca77a43cf9"
      },
      "execution_count": null,
      "outputs": [
        {
          "output_type": "stream",
          "name": "stdout",
          "text": [
            "Modified list: [1, 2, 10, 4, 5]\n",
            "Error: 'tuple' object does not support item assignment\n",
            "Original tuple: (1, 2, 3, 4, 5)\n",
            "Modified tuple: (1, 2, 10, 4, 5)\n"
          ]
        }
      ]
    },
    {
      "cell_type": "code",
      "source": [
        "#Q6.Write a function to demonstrate the behavior of mutable and immutable arguments.\n",
        "def show_mutable_immutable(my_list, my_tuple):\n",
        "  #print(\"Original list (inside function):\", my_list)\n",
        "  #print(\"Original tuple (inside function):\", my_tuple)\n",
        "\n",
        "  my_list.append(6)  # Modifying the list (mutable)\n",
        "  #my_tuple[0] = 10  # This would raise an error since tuples are immutable\n",
        "\n",
        "  #print(\"Modified list (inside function):\", my_list)\n",
        "  #print(\"Modified tuple (inside function) - no change:\", my_tuple)\n",
        "\n",
        "# Example usage:\n",
        "my_list_outside = [1, 2, 3]\n",
        "my_tuple_outside = (4, 5, 6)\n",
        "\n",
        "show_mutable_immutable(my_list_outside, my_tuple_outside)\n",
        "\n",
        "print(\"Original list :\", my_list_outside)\n",
        "print(\"Original tuple:\", my_tuple_outside)"
      ],
      "metadata": {
        "colab": {
          "base_uri": "https://localhost:8080/"
        },
        "id": "nk9OHeLP54QL",
        "outputId": "cf42041c-df84-4d85-efcb-58c3d318f607"
      },
      "execution_count": null,
      "outputs": [
        {
          "output_type": "stream",
          "name": "stdout",
          "text": [
            "Original list : [1, 2, 3, 6]\n",
            "Original tuple: (4, 5, 6)\n"
          ]
        }
      ]
    },
    {
      "cell_type": "code",
      "source": [
        "#Ques7. Write a program that performs basic arithmetic operations on two user-input numbers.\n",
        "\n",
        "def Mathematics_operations(num1, num2):\n",
        "    print(\"Sum:\", num1 + num2)\n",
        "    print(\"Difference:\", num1 - num2)\n",
        "    print(\"Multiply:\", num1 * num2)\n",
        "\n",
        "    if num2 != 0:\n",
        "        print(\"remainder:\", num1 / num2)\n",
        "    else:\n",
        "        print(\"Cannot divide by zero.\")\n",
        "\n",
        "# Get user input\n",
        "try:\n",
        "    num1 = int(input(\"Enter the first number: \"))\n",
        "    num2 = int(input(\"Enter the second number: \"))\n",
        "\n",
        "    Mathematics_operations(num1, num2)\n",
        "\n",
        "except ValueError:\n",
        "    print(\"Invalid input. Please enter numbers only.\")"
      ],
      "metadata": {
        "colab": {
          "base_uri": "https://localhost:8080/"
        },
        "id": "SIAfaZGoqXTK",
        "outputId": "a71028a0-f104-451f-8cf9-ef65a51c3ef0"
      },
      "execution_count": null,
      "outputs": [
        {
          "output_type": "stream",
          "name": "stdout",
          "text": [
            "Enter the first number: 10\n",
            "Enter the second number: 20\n",
            "Sum: 30\n",
            "Difference: -10\n",
            "Multiply: 200\n",
            "remainder: 0.5\n"
          ]
        }
      ]
    },
    {
      "cell_type": "code",
      "source": [
        "#Ques 8: prompt: Write a program to demonstrate the use of logical operators\n",
        "\n",
        "def logi_operators():\n",
        "    x = True\n",
        "    y = False\n",
        "\n",
        "    # AND\n",
        "    print(f\"x and y: {x and y}\")\n",
        "\n",
        "    # OR\n",
        "    print(f\"x or y: {x or y}\")\n",
        "\n",
        "    # NOT\n",
        "    print(f\"not x: {not x}\")\n",
        "    print(f\"not y: {not y}\")\n",
        "\n",
        "    # Combining logical operators\n",
        "    print(f\"x and not y: {x and not y}\")\n",
        "    print(f\"not x or y: {not x or y}\")\n",
        "\n",
        "    # Example\n",
        "    a = 5\n",
        "    b = 0\n",
        "    print(f\"a and b: {a and b}\")\n",
        "    print(f\"a or b: {a or b}\")\n",
        "\n",
        "if __name__ == \"__main__\":\n",
        "    logi_operators()\n"
      ],
      "metadata": {
        "colab": {
          "base_uri": "https://localhost:8080/"
        },
        "id": "Dl-yh5iT3IU1",
        "outputId": "7cddbfbb-ba99-447d-d284-07822872e205"
      },
      "execution_count": null,
      "outputs": [
        {
          "output_type": "stream",
          "name": "stdout",
          "text": [
            "x and y: False\n",
            "x or y: True\n",
            "not x: False\n",
            "not y: True\n",
            "x and not y: True\n",
            "not x or y: False\n",
            "a and b: 0\n",
            "a or b: 5\n"
          ]
        }
      ]
    },
    {
      "cell_type": "code",
      "source": [
        "# Ques 9:  Write a Python program to convert user input from string to integer, float, and boolean types.\n",
        "\n",
        "def convert_input():\n",
        "    user_input = input(\"Enter a value: \")\n",
        "\n",
        "    try:\n",
        "        integer_value = int(user_input)\n",
        "        print(\"Integer:\", integer_value)\n",
        "    except ValueError:\n",
        "        print(\"Invalid input for integer conversion.\")\n",
        "\n",
        "    try:\n",
        "        float_value = float(user_input)\n",
        "        print(\"Float:\", float_value)\n",
        "    except ValueError:\n",
        "        print(\"Invalid input for float conversion.\")\n",
        "\n",
        "    try:\n",
        "        boolean_value = bool(user_input)\n",
        "        print(\"Boolean:\", boolean_value)\n",
        "    except ValueError:\n",
        "        print(\"Invalid input for boolean conversion.\")\n",
        "\n",
        "convert_input()"
      ],
      "metadata": {
        "id": "CB5eLPso3YE6",
        "colab": {
          "base_uri": "https://localhost:8080/"
        },
        "outputId": "2d1b0019-28ba-4599-a154-77bee573fde8"
      },
      "execution_count": null,
      "outputs": [
        {
          "output_type": "stream",
          "name": "stdout",
          "text": [
            "Enter a value: 10\n",
            "Integer: 10\n",
            "Float: 10.0\n",
            "Boolean: True\n"
          ]
        }
      ]
    },
    {
      "cell_type": "code",
      "source": [
        "#Ques 10: Write code to demonstrate type casting with list elements.\n",
        "\n",
        "my_list = [1, '2', 3.0, '4.5']\n",
        "\n",
        "# Convert elements to integers\n",
        "int_list = []\n",
        "for item in my_list:\n",
        "    try:\n",
        "        int_list.append(int(item))\n",
        "    except ValueError:\n",
        "        print(f\"Could not convert '{item}' to integer\")\n",
        "        int_list.append(item) # Keep the original if conversion fails\n",
        "\n",
        "print(\"List with integers:\", int_list)\n",
        "\n",
        "# Convert elements to floats\n",
        "float_list = []\n",
        "for item in my_list:\n",
        "    try:\n",
        "        float_list.append(float(item))\n",
        "    except ValueError:\n",
        "        print(f\"Could not convert '{item}' to float\")\n",
        "        float_list.append(item)\n",
        "\n",
        "print(\"List with floats:\", float_list)\n",
        "\n",
        "# Convert elements to strings\n",
        "str_list = [str(item) for item in my_list]\n",
        "print(\"List with strings:\", str_list)\n"
      ],
      "metadata": {
        "id": "OL2jyEGV3w9A",
        "colab": {
          "base_uri": "https://localhost:8080/"
        },
        "outputId": "f4f1dbb0-078f-4725-f29a-8e7b1bf0e17d"
      },
      "execution_count": null,
      "outputs": [
        {
          "output_type": "stream",
          "name": "stdout",
          "text": [
            "Could not convert '4.5' to integer\n",
            "List with integers: [1, 2, 3, '4.5']\n",
            "List with floats: [1.0, 2.0, 3.0, 4.5]\n",
            "List with strings: ['1', '2', '3.0', '4.5']\n"
          ]
        }
      ]
    },
    {
      "cell_type": "code",
      "source": [
        "#Ques 11: Write a program that checks if a number is positive, negative, or zero.\n",
        "check_number=int(input(\"Please Enter a Number\"))\n",
        "if check_number > 0:\n",
        "    print(\"Positive\")\n",
        "elif check_number < 0:\n",
        "    print(\"Negative\")\n",
        "else:\n",
        "    print(\"Zero\")"
      ],
      "metadata": {
        "id": "gNfa0HwY4JX7",
        "colab": {
          "base_uri": "https://localhost:8080/"
        },
        "outputId": "28142d1a-4103-43d4-fcd2-91c300270d26"
      },
      "execution_count": null,
      "outputs": [
        {
          "output_type": "stream",
          "name": "stdout",
          "text": [
            "Please Enter a Number-1\n",
            "Negative\n"
          ]
        }
      ]
    },
    {
      "cell_type": "code",
      "source": [
        "#Ques 12: prompt: Write a for loop to print numbers from 1 to 10\n",
        "\n",
        "#with while Lopp\n",
        "i=1\n",
        "while i<11:\n",
        "  print(i)\n",
        "  i+=1\n",
        "# wtih for loop\n",
        "for i in range(1, 11):\n",
        "  print(i)"
      ],
      "metadata": {
        "colab": {
          "base_uri": "https://localhost:8080/"
        },
        "id": "n-6L09zs4YUH",
        "outputId": "f87b8e6f-bd21-4b29-dac9-a36d6f20a51a"
      },
      "execution_count": null,
      "outputs": [
        {
          "output_type": "stream",
          "name": "stdout",
          "text": [
            "1\n",
            "2\n",
            "3\n",
            "4\n",
            "5\n",
            "6\n",
            "7\n",
            "8\n",
            "9\n",
            "10\n",
            "1\n",
            "2\n",
            "3\n",
            "4\n",
            "5\n",
            "6\n",
            "7\n",
            "8\n",
            "9\n",
            "10\n"
          ]
        }
      ]
    },
    {
      "cell_type": "code",
      "source": [
        "#Ques 13: Write a Python program to find the sum of all even numbers between 1 and 50\n",
        "\n",
        "# Calculate the sum of even numbers between 1 and 50\n",
        "sum_of_evens = 0\n",
        "for number in range(2, 51, 2):  # Iterate through even numbers\n",
        "    sum_of_evens += number\n",
        "\n",
        "print(\"The sum of even numbers between 1 and 50 is:\", sum_of_evens)\n"
      ],
      "metadata": {
        "id": "7QIrF2SO4zyk",
        "colab": {
          "base_uri": "https://localhost:8080/"
        },
        "outputId": "1fddf002-1276-4327-ca7a-578de02fca59"
      },
      "execution_count": null,
      "outputs": [
        {
          "output_type": "stream",
          "name": "stdout",
          "text": [
            "The sum of even numbers between 1 and 50 is: 650\n"
          ]
        }
      ]
    },
    {
      "cell_type": "code",
      "source": [
        "#Ques 14:  Write a program to reverse a string using a while loop\n",
        "\n",
        "name= str((input(\"Enter the name: \")))\n",
        "i = len(name) - 1\n",
        "\n",
        "while i >= 0:\n",
        "    print(name[i], end = '')\n",
        "    i = i - 1"
      ],
      "metadata": {
        "id": "5obv13R249Ya",
        "colab": {
          "base_uri": "https://localhost:8080/"
        },
        "outputId": "a3afe808-4534-42a3-fcc7-b9338c7fc481"
      },
      "execution_count": null,
      "outputs": [
        {
          "output_type": "stream",
          "name": "stdout",
          "text": [
            "Reversed string: olleh\n"
          ]
        }
      ]
    },
    {
      "cell_type": "code",
      "source": [
        "#Ques 15: Write a Python program to calculate the factorial of a number provided by the user using a while loop\n",
        "\n",
        "def factorial(n):\n",
        "  \"\"\"\n",
        "  Calculates the factorial of a non-negative integer.\n",
        "\n",
        "  Args:\n",
        "    n: The non-negative integer.\n",
        "\n",
        "  Returns:\n",
        "    The factorial of n, or 1 if n is 0.\n",
        "    Returns an error message if n is negative.\n",
        "  \"\"\"\n",
        "  if n < 0:\n",
        "    return \"Factorial is not defined for negative numbers.\"\n",
        "  elif n == 0:\n",
        "    return 1\n",
        "  else:\n",
        "    fact = 1\n",
        "    i = 1\n",
        "    while i <= n:\n",
        "      fact *= i\n",
        "      i += 1\n",
        "    return fact\n",
        "\n",
        "# Get input from the user\n",
        "num = int(input(\"Enter a non-negative integer: \"))\n",
        "\n",
        "# Calculate and print the factorial\n",
        "result = factorial(num)\n",
        "print(f\"The factorial of {num} is {result}\")"
      ],
      "metadata": {
        "id": "6suWN7Hx5JAP",
        "colab": {
          "base_uri": "https://localhost:8080/"
        },
        "outputId": "0654dd15-1501-415e-cdf0-313842e62cbe"
      },
      "execution_count": null,
      "outputs": [
        {
          "output_type": "stream",
          "name": "stdout",
          "text": [
            "Enter a non-negative integer: 20\n",
            "The factorial of 20 is 2432902008176640000\n"
          ]
        }
      ]
    }
  ]
}